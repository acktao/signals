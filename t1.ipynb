{
 "cells": [
  {
   "cell_type": "code",
   "execution_count": null,
   "id": "1be2d057",
   "metadata": {},
   "outputs": [],
   "source": [
    "# Consider the Fourier Transform Pair:\n",
    "using Waveforms, Plots\n",
    "function heaviside(t)\n",
    "   0.5 * (sign(t) + 1)\n",
    "end;"
   ]
  },
  {
   "cell_type": "code",
   "execution_count": null,
   "id": "66603962",
   "metadata": {},
   "outputs": [],
   "source": [
    "heaviside(1);"
   ]
  },
  {
   "cell_type": "code",
   "execution_count": null,
   "id": "ccb55eb7",
   "metadata": {},
   "outputs": [],
   "source": [
    "t = LinRange(-0.5,0.5,10001)\n",
    "plot(t, [heaviside(t) for t in t]);"
   ]
  },
  {
   "cell_type": "code",
   "execution_count": null,
   "id": "0d48941a",
   "metadata": {},
   "outputs": [],
   "source": [
    "function interval(t, a, b)\n",
    "   heaviside(t-a) - heaviside(t-b)\n",
    "end\n",
    "\n",
    "function piecewise(t)\n",
    "   sinc(t) .* interval(t,-3,3) + cos(t) .* interval(t, 4,7)\n",
    "end;"
   ]
  },
  {
   "cell_type": "code",
   "execution_count": null,
   "id": "43207cbf",
   "metadata": {},
   "outputs": [],
   "source": [
    "test = [interval(t_,-1,1) for t_ in t];"
   ]
  },
  {
   "cell_type": "code",
   "execution_count": null,
   "id": "2a227595",
   "metadata": {},
   "outputs": [],
   "source": [
    "plot(t, test);"
   ]
  },
  {
   "cell_type": "code",
   "execution_count": null,
   "id": "86443cce",
   "metadata": {},
   "outputs": [],
   "source": [
    "tmaxRange = LinRange(-1,1,10001)\n",
    "Π_t(A,t) = [interval(t,(-0.5/A), (0.5/A)) for t in tmaxRange];"
   ]
  },
  {
   "cell_type": "code",
   "execution_count": null,
   "id": "d82c3fc5",
   "metadata": {},
   "outputs": [],
   "source": [
    "Π_2t = Π_t(2,t);"
   ]
  },
  {
   "cell_type": "code",
   "execution_count": null,
   "id": "50057cd9",
   "metadata": {},
   "outputs": [],
   "source": [
    "p1_mag_xt = plot(t, Π_2t, xlims = (-0.5, 0.5), xticks =-0.5:0.1:0.5,\n",
    "    title = \"Plot of |x(t)|\", xlabel = \"t [s]\", ylabel = \"x(t)\");"
   ]
  },
  {
   "cell_type": "code",
   "execution_count": null,
   "id": "ea256aff",
   "metadata": {},
   "outputs": [],
   "source": [
    "using FFTW\n",
    "A = 2\n",
    "t = LinRange(-0.5,0.5,10001)\n",
    "fx_t = [interval(t,(-0.5/A), (0.5/A)) for t in t]\n",
    "plot(t,fx_t);"
   ]
  },
  {
   "cell_type": "code",
   "execution_count": null,
   "id": "3f41b3d2",
   "metadata": {},
   "outputs": [],
   "source": [
    "#f_range = LinRange(-5,5,length(t))\n",
    "#FFT_X = fft(fx_t)\n",
    "#mag_FFT_X = .√(real(FFT_X).^2+imag(FFT_X).^2)\n",
    "#plot(f_range, mag_FFT_X./A)"
   ]
  },
  {
   "cell_type": "code",
   "execution_count": null,
   "id": "fbb92db2",
   "metadata": {},
   "outputs": [],
   "source": [
    "#phase = angle.(F_Π_2t)\n",
    "#plot(f_range, phase)"
   ]
  },
  {
   "cell_type": "code",
   "execution_count": null,
   "id": "ab4a506b",
   "metadata": {},
   "outputs": [],
   "source": [
    "phase = angle.(fx_t)\n",
    "plot(f_range, phase);"
   ]
  },
  {
   "cell_type": "code",
   "execution_count": null,
   "id": "1d78802e",
   "metadata": {},
   "outputs": [],
   "source": [
    "f_range = -5:0.001:5;"
   ]
  },
  {
   "cell_type": "code",
   "execution_count": null,
   "id": "8b38ca64",
   "metadata": {},
   "outputs": [],
   "source": [
    "Π_f(A,f) = [(abs((1/(A))*sinc(f/A))) for f in f_range]\n",
    "Π_fsign(A,f) = [(((1/(A))*sinc(f/A))) for f in f_range];"
   ]
  },
  {
   "cell_type": "code",
   "execution_count": null,
   "id": "71e2c480",
   "metadata": {},
   "outputs": [],
   "source": [
    "Π_F = Π_f(2,f_range)\n",
    "Π_Fs = Π_fsign(2,f_range);"
   ]
  },
  {
   "cell_type": "code",
   "execution_count": null,
   "id": "3788bc6d",
   "metadata": {},
   "outputs": [],
   "source": [
    "plot(f_range, Π_Fs)"
   ]
  },
  {
   "cell_type": "code",
   "execution_count": null,
   "id": "5490c14c",
   "metadata": {},
   "outputs": [],
   "source": [
    "p1_phase = plot(f_range, rad2deg.(angle.(Π_Fs)), \n",
    "    widen=true, xlims = (-5, 5), xticks =-5:1:5, ylims = (0,200),\n",
    "    title = \"Phase Plot of X(f)\", ylabel = \"Phase(f) [°]\", xlabel = \"f [Hz]\", legend = false, titlefontsize = 8);"
   ]
  },
  {
   "cell_type": "code",
   "execution_count": null,
   "id": "1862c5ce",
   "metadata": {},
   "outputs": [],
   "source": [
    "p1_mag_xFplot = plot(f_range, Π_F, xlims = (-5,5),\n",
    "    title = \"Magnitude Plot of |X(f)|\", xlabel = \"f [Hz]\", ylabel = \"|X(f)|\", legend = false, titlefontsize = 8);"
   ]
  },
  {
   "cell_type": "code",
   "execution_count": null,
   "id": "0908f770",
   "metadata": {},
   "outputs": [],
   "source": [
    "plot(p1_mag_xFplot,p1_phase, layout=(2, 1));"
   ]
  },
  {
   "cell_type": "code",
   "execution_count": null,
   "id": "9198e857",
   "metadata": {},
   "outputs": [],
   "source": []
  },
  {
   "cell_type": "code",
   "execution_count": null,
   "id": "458045c9",
   "metadata": {},
   "outputs": [],
   "source": [
    "t = LinRange(-0.5,0.5, 10001)\n",
    "#y_t = test2*cos(2*π*t) for t in t]\n",
    "cos_vect = cos.((2*π*10*t))\n",
    "plot(t, cos_vect, widen = true);"
   ]
  },
  {
   "cell_type": "code",
   "execution_count": null,
   "id": "e1e85512",
   "metadata": {},
   "outputs": [],
   "source": [
    "y_t = fx_t .* cos_vect;"
   ]
  },
  {
   "cell_type": "code",
   "execution_count": null,
   "id": "0d3eefae",
   "metadata": {},
   "outputs": [],
   "source": [
    "p1_yt = plot(t, y_t, \n",
    "    widen = true, xlims = (-0.5,0.5), title = \"y(t)\", ylabel = \"y(t)\", xlabel = \"t [s]\", titlefontsize = 8);"
   ]
  },
  {
   "cell_type": "code",
   "execution_count": null,
   "id": "0550d0f1",
   "metadata": {},
   "outputs": [],
   "source": [
    "plot(p1_mag_xFplot,p1_phase, p1_yt, layout=(3, 1));"
   ]
  },
  {
   "cell_type": "code",
   "execution_count": null,
   "id": "292d9f01",
   "metadata": {},
   "outputs": [],
   "source": [
    "fₒ = 5;\n",
    "f_range_2 = LinRange(0,10, 10001)\n",
    "Y_F = 5 .* Π_f(2,(f_range_2 .- fₒ));"
   ]
  },
  {
   "cell_type": "code",
   "execution_count": null,
   "id": "d6692301",
   "metadata": {},
   "outputs": [],
   "source": [
    "p1_YF_plot = plot(f_range_2, Y_F,\n",
    "     widen=true, xlims = (0, 10), xticks =0:1:10, ylims = (0,2.5),\n",
    "    title = \"Magnitude of Y(f)\", ylabel = \"|Y(f)|\", xlabel = \"f [Hz]\", legend = false, titlefontsize = 8);"
   ]
  },
  {
   "cell_type": "code",
   "execution_count": null,
   "id": "91b6f98d",
   "metadata": {},
   "outputs": [],
   "source": [
    "plot(p1_mag_xFplot,p1_phase, p1_yt, p1_YF_plot, layout=(4, 1),\n",
    "    labelfontsize = 8,\n",
    "    titlefontsize = 8, \n",
    "    axisfontsize = 8, tickfontsize = 4, legend = false)"
   ]
  },
  {
   "cell_type": "code",
   "execution_count": null,
   "id": "f261e214",
   "metadata": {},
   "outputs": [],
   "source": [
    "t_range_shift = t.+0.2\n",
    "z_t = Π_t(2,(t .- 0.2));"
   ]
  },
  {
   "cell_type": "code",
   "execution_count": null,
   "id": "3ff492a7",
   "metadata": {},
   "outputs": [],
   "source": [
    "plot(t_range_shift, z_t, xlims = (-0.3, 0.7))"
   ]
  },
  {
   "cell_type": "code",
   "execution_count": null,
   "id": "320f2105",
   "metadata": {},
   "outputs": [],
   "source": [
    "tₒ = 0.2\n",
    "Z_F = ℯ^(-im*2*π*fₒ*tₒ)*Π_Fs;"
   ]
  },
  {
   "cell_type": "code",
   "execution_count": null,
   "id": "c69a88ba",
   "metadata": {},
   "outputs": [],
   "source": [
    "phase_XF = rad2deg.(angle.(Z_F))\n",
    "p1_phase_XF = plot(f_range, phase_XF, title = \"Phase Z(F) - Tassos Karles (11/01/2021)\",\n",
    "    ylabel = \"phase [°]\", xlabel = \"f [Hz]\", legend = false, widen = true, xlims = (-5,5),\n",
    "    xticks = -5:1:5)"
   ]
  },
  {
   "cell_type": "code",
   "execution_count": null,
   "id": "d49d0e09",
   "metadata": {},
   "outputs": [],
   "source": [
    "plot(p1_mag_xFplot,p1_phase, p1_yt, p1_YF_plot, p1_phase_XF,\n",
    "    layout=(4,1,1),\n",
    "    labelfontsize = 8,\n",
    "    titlefontsize = 8, \n",
    "    axisfontsize = 8, tickfontsize = 4, legend = false)\n"
   ]
  },
  {
   "cell_type": "code",
   "execution_count": null,
   "id": "cdb7d02b",
   "metadata": {
    "scrolled": true
   },
   "outputs": [],
   "source": [
    "## Part 1 Final Graph\n",
    "l = @layout([° ° ; ° °;°])\n",
    "\n",
    "plot(p1_mag_xFplot,p1_phase, p1_yt, p1_YF_plot, p1_phase_XF,\n",
    "    layout=l,\n",
    "    labelfontsize = 8,\n",
    "    titlefontsize = 8, \n",
    "    axisfontsize = 8, tickfontsize = 4, legend = false)"
   ]
  },
  {
   "cell_type": "code",
   "execution_count": null,
   "id": "92aa6a0b",
   "metadata": {},
   "outputs": [],
   "source": []
  },
  {
   "cell_type": "code",
   "execution_count": null,
   "id": "e032f133",
   "metadata": {},
   "outputs": [],
   "source": [
    "## Part 2\n",
    "conv_range=0:10000\n",
    "t_range = LinRange(0,10,1000)\n",
    "h(t) = t\n",
    "h_t = [h(t) for t in t_range];"
   ]
  },
  {
   "cell_type": "code",
   "execution_count": null,
   "id": "ae323d00",
   "metadata": {},
   "outputs": [],
   "source": [
    "x_p2(t) = 0.8^t;"
   ]
  },
  {
   "cell_type": "code",
   "execution_count": null,
   "id": "9810cbb6",
   "metadata": {},
   "outputs": [],
   "source": [
    "xp2_t = [x_p2(t) for t t_range];"
   ]
  },
  {
   "cell_type": "code",
   "execution_count": null,
   "id": "a94a1cba",
   "metadata": {},
   "outputs": [],
   "source": [
    "#y(t) = h(t) conv. x(t)\n",
    "using DSP\n",
    "h_t2 = [h((t*maximum(t_range))/length(conv_range)) for t in conv_range];\n",
    "xp2_t2 = [x_p2((t*maximum(t_range))/length(conv_range)) for t in conv_range];\n",
    "y_t_p2 = conv(h_t2,xp2_t2)*(maximum(t_range))/length(conv_range)\n",
    "t_range3 = LinRange(0,2*maximum(t_range),length(y_t_p2))\n",
    "p2_plot1 = plot(t_range3, y_t_p2, \n",
    "    widen = true,\n",
    "    ylabel = \"y(t)\", xlabel = \"t [s]\", title = \"Impulse Response Part 2 #1\")"
   ]
  },
  {
   "cell_type": "code",
   "execution_count": null,
   "id": "068b1a07",
   "metadata": {},
   "outputs": [],
   "source": [
    "h_t2 = [h((t*maximum(t_range))/length(conv_range)) for t in conv_range];\n",
    "xp2_t2 = [x_p2((t*maximum(t_range))/length(conv_range)) for t in conv_range];\n",
    "y_t_p2 = conv(h_t2,xp2_t2)*(maximum(t_range))/length(conv_range)\n",
    "t_range3 = LinRange(0,2*maximum(t_range),length(y_t_p2))\n",
    "p2_plot1 = plot(t_range3, y_t_p2, \n",
    "    widen = true,\n",
    "    ylabel = \"y(t)\", xlabel = \"t [s]\", title = \"Impulse Response Part 2 #1\")"
   ]
  },
  {
   "cell_type": "code",
   "execution_count": null,
   "id": "1168377c",
   "metadata": {},
   "outputs": [],
   "source": [
    "#plot(t_range4, [interval(t, 1, 2) for  t in t_range4])"
   ]
  },
  {
   "cell_type": "code",
   "execution_count": null,
   "id": "5e462cc3",
   "metadata": {},
   "outputs": [],
   "source": [
    "conv_range=0:1000\n",
    "t_range4  = LinRange(0,3.5,1000)\n",
    "tmax = maximum(t_range4)\n",
    "h2(t_) = (ℯ^(-2*t_))*heaviside(t_-1)\n",
    "h_2t = [h2(t_) for t_ in t_range4]"
   ]
  },
  {
   "cell_type": "code",
   "execution_count": null,
   "id": "8dd9d947",
   "metadata": {},
   "outputs": [],
   "source": [
    "#t_range4 = LinRange(0,3,length(h_2t))\n",
    "plot(t_range4, h_2t)"
   ]
  },
  {
   "cell_type": "code",
   "execution_count": null,
   "id": "e6658f6e",
   "metadata": {},
   "outputs": [],
   "source": [
    "x2(t_) = (heaviside(t_) - heaviside(t_-2));\n",
    "length(conv_range)"
   ]
  },
  {
   "cell_type": "code",
   "execution_count": null,
   "id": "71c13bf2",
   "metadata": {},
   "outputs": [],
   "source": [
    "x2t = [x2(t_) for t_ in t_range4];\n",
    "plot(x2t)"
   ]
  },
  {
   "cell_type": "code",
   "execution_count": null,
   "id": "a1b453aa",
   "metadata": {},
   "outputs": [],
   "source": [
    "y_t2 = conv(h_2t./sizeof(conv_range),x2t./sizeof(conv_range))\n",
    "#y_t_test = reshape(y_t2, length(t_range4))\n",
    "t_range3 = LinRange(0,2*maximum(t_range4),length(y_t2))\n",
    "p2_plot2 = plot(t_range3, y_t2,\n",
    "    widen = true, \n",
    "    ylabel = \"y(t)\", \n",
    "   yticks = 0:0.01:0.08,\n",
    "   ylims = (0,0.08),\n",
    "    xlabel = \"t [s]\", title = \"Impulse Response Part 2 #2\",\n",
    "    xticks = 0:1:7\n",
    "    )"
   ]
  },
  {
   "cell_type": "code",
   "execution_count": null,
   "id": "c5b8d9b5",
   "metadata": {},
   "outputs": [],
   "source": [
    "maximum(y_t2)"
   ]
  },
  {
   "cell_type": "code",
   "execution_count": null,
   "id": "c85e0135",
   "metadata": {},
   "outputs": [],
   "source": [
    "plot(p2_plot1, p2_plot2,\n",
    "    layout=(2,1),\n",
    "    labelfontsize = 8,\n",
    "    titlefontsize = 8, \n",
    "    axisfontsize = 8, tickfontsize = 4, legend = false, widen = true)"
   ]
  },
  {
   "cell_type": "code",
   "execution_count": null,
   "id": "c64b89cd",
   "metadata": {},
   "outputs": [],
   "source": [
    "## Part 3\n",
    "t_range5 = LinRange(0,10,1000)\n",
    "m(t_) = 1.0+0.7*sin(2*π*55*t_) + 1.2*cos(2*π*110*t_)\n",
    "f1 = 55;\n",
    "f2 = 110;\n",
    "\n",
    "Nt = 1000;\n",
    "fo = gcd(f1,f2)\n",
    "NT = 3\n",
    "T = 1/fo\n",
    "\n",
    "tmax = NT/fo;\n",
    "\n",
    "t = LinRange(0,tmax,Nt);\n",
    "\n",
    "m_t = [m(t_) for t_ in t]\n",
    "dt = tmax/(Nt-1)\n",
    "fs = 1/dt"
   ]
  },
  {
   "cell_type": "code",
   "execution_count": null,
   "id": "e4ff8f59",
   "metadata": {},
   "outputs": [],
   "source": [
    "p3_1 = plot(t, m_t, \n",
    "    widen = true,\n",
    "    xlabel = \"t [s]\", ylabel = \"m(t)\", title = \"3 Periods of m(t)\", legend = false)"
   ]
  },
  {
   "cell_type": "code",
   "execution_count": null,
   "id": "3cdd1d0a",
   "metadata": {},
   "outputs": [],
   "source": [
    "f_fft_range = AbstractFFTs.fftfreq.(length(m_t), fs) |> fftshift"
   ]
  },
  {
   "cell_type": "code",
   "execution_count": null,
   "id": "2e5b57cb",
   "metadata": {},
   "outputs": [],
   "source": [
    "\n",
    "phase = angle.(fft(m_t))\n",
    "\n",
    "plot(f_fft_range, phase, ylabel = \"m(t)\", title = \"Phase of m(t)\", legend = false);"
   ]
  },
  {
   "cell_type": "code",
   "execution_count": null,
   "id": "8abd7de5",
   "metadata": {},
   "outputs": [],
   "source": [
    "mag = abs.(fft(m_t))\n",
    "plot(f_fft_range, mag)"
   ]
  },
  {
   "cell_type": "code",
   "execution_count": null,
   "id": "291ec47b",
   "metadata": {},
   "outputs": [],
   "source": [
    "mag_shift = real(abs.(fft(m_t))) |> fftshift\n",
    "f_fft_range2 = AbstractFFTs.fftfreq.(length(mag_shift), fs) |> fftshift;\n",
    "rf_fft_range2 = AbstractFFTs.fftfreq.(length(mag_shift), fs) |> fftshift;"
   ]
  },
  {
   "cell_type": "code",
   "execution_count": null,
   "id": "9dee1ac7",
   "metadata": {},
   "outputs": [],
   "source": [
    "plot(f_fft_range2, mag_shift)"
   ]
  },
  {
   "cell_type": "code",
   "execution_count": null,
   "id": "6fc70074",
   "metadata": {},
   "outputs": [],
   "source": [
    "plot(f_fft_range2, mag_shift, xlims = (-130,130))"
   ]
  },
  {
   "cell_type": "code",
   "execution_count": null,
   "id": "cddde17f",
   "metadata": {},
   "outputs": [],
   "source": [
    "plot(f_fft_range2, mag_shift, xlims = (0,130))"
   ]
  },
  {
   "cell_type": "code",
   "execution_count": null,
   "id": "76c60e34",
   "metadata": {},
   "outputs": [],
   "source": []
  },
  {
   "cell_type": "code",
   "execution_count": null,
   "id": "e9b4cda9",
   "metadata": {},
   "outputs": [],
   "source": []
  }
 ],
 "metadata": {
  "kernelspec": {
   "display_name": "Julia 1.6.2",
   "language": "julia",
   "name": "julia-1.6"
  },
  "language_info": {
   "file_extension": ".jl",
   "mimetype": "application/julia",
   "name": "julia",
   "version": "1.6.2"
  }
 },
 "nbformat": 4,
 "nbformat_minor": 5
}
